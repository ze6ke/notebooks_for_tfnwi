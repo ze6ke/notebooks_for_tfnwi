{
 "cells": [
  {
   "cell_type": "markdown",
   "metadata": {},
   "source": [
    "# The Desert of the Real\n",
    "Exploring a subset of Hack Oregon's Campaign Finance data."
   ]
  },
  {
   "cell_type": "code",
   "execution_count": 1,
   "metadata": {
    "collapsed": false
   },
   "outputs": [
    {
     "name": "stdout",
     "output_type": "stream",
     "text": [
      "Populating the interactive namespace from numpy and matplotlib\n"
     ]
    }
   ],
   "source": [
    "import csv\n",
    "%pylab inline"
   ]
  },
  {
   "cell_type": "code",
   "execution_count": 2,
   "metadata": {
    "collapsed": false
   },
   "outputs": [
    {
     "name": "stdout",
     "output_type": "stream",
     "text": [
      "header = [['election_txt', 'election_year', 'candidate_name', 'committee_name', 'party_affiliation', 'total', 'total_spent', 'grassroots', 'instate']]\n",
      " and 867 rows read\n"
     ]
    }
   ],
   "source": [
    "filename = '/Users/agrimm/hackoregon/data/cleaned.csv'\n",
    "filename = '/Users/agrimm/hackoregon/data/cleaned_with_null_election_txt_and_year.csv'\n",
    "reader = csv.reader(open(filename, 'r'))\n",
    "header = reader.next()\n",
    "data = []\n",
    "for line in reader:\n",
    "    data.append(line)\n",
    "\n",
    "print \"header = [{}]\".format(header)\n",
    "print \" and {} rows read\".format(len(data))"
   ]
  },
  {
   "cell_type": "code",
   "execution_count": 3,
   "metadata": {
    "collapsed": false
   },
   "outputs": [
    {
     "data": {
      "image/png": "[encoded data removed]",
      "text/plain": [
       "<matplotlib.figure.Figure at 0x1061f4610>"
      ]
     },
     "metadata": {},
     "output_type": "display_data"
    }
   ],
   "source": [
    "def party_marker_color(val):\n",
    "    if val=='Nonpartisan':\n",
    "        marker = '+'\n",
    "        color = 'black'\n",
    "    elif val=='Republican':\n",
    "        marker = 'o'\n",
    "        color = 'red'\n",
    "    elif val =='Democrat':\n",
    "        marker = 's'\n",
    "        color = 'blue'\n",
    "    else:\n",
    "        marker = '*'\n",
    "        color = 'green'\n",
    "    return [marker, color]\n",
    "\n",
    "def year_marker_color(val):\n",
    "    if val=='2014':\n",
    "        marker = '+'\n",
    "        color = 'black'\n",
    "    elif val=='2012':\n",
    "        marker = 'o'\n",
    "        color = 'red'\n",
    "    elif val =='2010':\n",
    "        marker = 's'\n",
    "        color = 'blue'\n",
    "    elif val=='2008':\n",
    "        marker = '*'\n",
    "        color = 'green'\n",
    "    else:\n",
    "        return [None, None]\n",
    "    return [marker, color]\n",
    "    \n",
    "    \n",
    "figure(1, figsize=(14,10))\n",
    "title('Total Money vs % Grassroots Money')\n",
    "for row in data:\n",
    "    year = row[1]\n",
    "    party_affiliation = row[4]\n",
    "    total = float(row[5]) if row[5] else None\n",
    "    total_spent = float(row[6]) if row[6] else None\n",
    "    grassroots = float(row[7]) if row[7] else None\n",
    "    instate = float(row[8]) if row[8] else None\n",
    "    \n",
    "    [marker, color] = party_marker_color(party_affiliation)\n",
    "#     [marker, color] = year_marker_color(year)\n",
    "    \n",
    "    if total_spent and instate and marker:\n",
    "        scatter(total_spent, grassroots, marker=marker, color=color)"
   ]
  },
  {
   "cell_type": "markdown",
   "metadata": {},
   "source": [
    "# Decision Tree"
   ]
  },
  {
   "cell_type": "code",
   "execution_count": null,
   "metadata": {
    "collapsed": true
   },
   "outputs": [],
   "source": [
    "# Use a decision tree to see what available varaibles are most predictive of % grassroots funding."
   ]
  },
  {
   "cell_type": "code",
   "execution_count": null,
   "metadata": {
    "collapsed": true
   },
   "outputs": [],
   "source": [
    "# use a decision tree to see if any other avaialbe variables are predictive of party affiliation."
   ]
  },
  {
   "cell_type": "markdown",
   "metadata": {},
   "source": [
    "# K-means"
   ]
  },
  {
   "cell_type": "code",
   "execution_count": null,
   "metadata": {
    "collapsed": true
   },
   "outputs": [],
   "source": [
    "# Run k-neans on Campaign Finance data"
   ]
  },
  {
   "cell_type": "code",
   "execution_count": null,
   "metadata": {
    "collapsed": true
   },
   "outputs": [],
   "source": [
    "# Scree Plot"
   ]
  },
  {
   "cell_type": "code",
   "execution_count": null,
   "metadata": {
    "collapsed": true
   },
   "outputs": [],
   "source": [
    "# how did k-means do on this data?\n",
    "# do any of the centers make sense intuitively?"
   ]
  }
 ],
 "metadata": {
  "kernelspec": {
   "display_name": "Python 2",
   "language": "python",
   "name": "python2"
  },
  "language_info": {
   "codemirror_mode": {
    "name": "ipython",
    "version": 2
   },
   "file_extension": ".py",
   "mimetype": "text/x-python",
   "name": "python",
   "nbconvert_exporter": "python",
   "pygments_lexer": "ipython2",
   "version": "2.7.10"
  }
 },
 "nbformat": 4,
 "nbformat_minor": 0
}
