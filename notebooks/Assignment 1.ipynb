{
 "cells": [
  {
   "cell_type": "markdown",
   "metadata": {},
   "source": [
    "# Assignment 1 - Decision Trees"
   ]
  },
  {
   "cell_type": "markdown",
   "metadata": {},
   "source": [
    "## Digits dataset"
   ]
  },
  {
   "cell_type": "code",
   "execution_count": 1,
   "metadata": {
    "collapsed": false
   },
   "outputs": [
    {
     "name": "stdout",
     "output_type": "stream",
     "text": [
      "Populating the interactive namespace from numpy and matplotlib\n"
     ]
    }
   ],
   "source": [
    "%pylab inline\n",
    "import numpy as np\n",
    "import sklearn as sk"
   ]
  },
  {
   "cell_type": "code",
   "execution_count": 2,
   "metadata": {
    "collapsed": false
   },
   "outputs": [],
   "source": [
    "\"\"\" Import digits dataset. \"\"\"\n",
    "# http://scikit-learn.org/stable/auto_examples/datasets/plot_digits_last_image.html\n",
    "from sklearn.datasets import load_digits\n",
    "digits = load_digits()"
   ]
  },
  {
   "cell_type": "code",
   "execution_count": 3,
   "metadata": {
    "collapsed": false
   },
   "outputs": [
    {
     "name": "stdout",
     "output_type": "stream",
     "text": [
      "<class 'sklearn.datasets.base.Bunch'>\n",
      "['images', 'data', 'target_names', 'DESCR', 'target']\n",
      "<type 'numpy.ndarray'>\n",
      "(64,)\n",
      "<type 'numpy.ndarray'>\n",
      "(8, 8)\n"
     ]
    }
   ],
   "source": [
    "\"\"\"  Explore what type of data structure `digits` is. \"\"\"\n",
    "print type(digits)\n",
    "print digits.keys()\n",
    "print type(digits.data)\n",
    "print digits.data[0].shape\n",
    "print type(digits.images)\n",
    "print digits.images[0].shape\n",
    "# and the docs are here: `digits.DESCR`"
   ]
  },
  {
   "cell_type": "code",
   "execution_count": 4,
   "metadata": {
    "collapsed": false
   },
   "outputs": [
    {
     "data": {
      "text/plain": [
       "<matplotlib.image.AxesImage at 0x107b2bb50>"
      ]
     },
     "execution_count": 4,
     "metadata": {},
     "output_type": "execute_result"
    },
    {
     "data": {
      "image/png": "[encoded data removed]",
      "text/plain": [
       "<matplotlib.figure.Figure at 0x1061ddfd0>"
      ]
     },
     "metadata": {},
     "output_type": "display_data"
    }
   ],
   "source": [
    "\"\"\" Plot 3 random digits. \"\"\"\n",
    "N = len(digits.data)\n",
    "samples_to_show = np.random.randint(0,N,3)\n",
    "f, (ax1, ax2, ax3) = plt.subplots(nrows=1, ncols=3)\n",
    "f.set_figwidth(12)\n",
    "ax1.set_title(digits.target[samples_to_show[0]])\n",
    "ax1.matshow(digits.images[samples_to_show[0]], cmap=cm.gray_r)\n",
    "\n",
    "ax2.set_title(digits.target[samples_to_show[1]])\n",
    "ax2.matshow(digits.images[samples_to_show[1]], cmap=cm.gray_r)\n",
    "\n",
    "ax3.set_title(digits.target[samples_to_show[2]])\n",
    "ax3.matshow(digits.images[samples_to_show[2]], cmap=cm.gray_r)"
   ]
  },
  {
   "cell_type": "markdown",
   "metadata": {},
   "source": [
    "### Data munging challenges:"
   ]
  },
  {
   "cell_type": "code",
   "execution_count": 5,
   "metadata": {
    "collapsed": false
   },
   "outputs": [],
   "source": [
    "# what is the label of the 8th sample?"
   ]
  },
  {
   "cell_type": "code",
   "execution_count": 6,
   "metadata": {
    "collapsed": false
   },
   "outputs": [],
   "source": [
    "# what does that 8th sample look like?"
   ]
  },
  {
   "cell_type": "code",
   "execution_count": 7,
   "metadata": {
    "collapsed": false
   },
   "outputs": [],
   "source": [
    "# how many of each class are there?"
   ]
  },
  {
   "cell_type": "code",
   "execution_count": 8,
   "metadata": {
    "collapsed": false
   },
   "outputs": [],
   "source": [
    "# are the classes given sequentially, or in a random order?"
   ]
  },
  {
   "cell_type": "markdown",
   "metadata": {},
   "source": [
    "## Decision Tree\n",
    "* See [this notebook](http://nbviewer.ipython.org/github/TheGrimmScientist/SlidesFromTalks/blob/master/2014_10_15_DecisionTreeWorkshop/Presentation.ipynb#Decision-Trees-in-SKLearn:) for explanation on `dot` command"
   ]
  },
  {
   "cell_type": "code",
   "execution_count": 9,
   "metadata": {
    "collapsed": false
   },
   "outputs": [],
   "source": [
    "from sklearn import tree"
   ]
  },
  {
   "cell_type": "code",
   "execution_count": 10,
   "metadata": {
    "collapsed": false
   },
   "outputs": [
    {
     "data": {
      "text/plain": [
       "DecisionTreeClassifier(class_weight=None, criterion='entropy', max_depth=2,\n",
       "            max_features=None, max_leaf_nodes=None, min_samples_leaf=1,\n",
       "            min_samples_split=2, min_weight_fraction_leaf=0.0,\n",
       "            random_state=None, splitter='best')"
      ]
     },
     "execution_count": 10,
     "metadata": {},
     "output_type": "execute_result"
    }
   ],
   "source": [
    "\"\"\" Train decision tree on digits data set \"\"\"\n",
    "clf = tree.DecisionTreeClassifier(max_depth=2,criterion=\"entropy\") # construct a decision tree.\n",
    "clf.fit(digits.data,digits.target)  # train it on the dataset"
   ]
  },
  {
   "cell_type": "code",
   "execution_count": 11,
   "metadata": {
    "collapsed": false
   },
   "outputs": [
    {
     "data": {
      "text/plain": [
       "' Print to file, and generate image of tree.  Be sure to have GraphViz installed.'"
      ]
     },
     "execution_count": 11,
     "metadata": {},
     "output_type": "execute_result"
    }
   ],
   "source": [
    "\"\"\" Print to file, and generate image of tree.  Be sure to have GraphViz installed.\"\"\"\n",
    "# #  (uncomment the following lines if you have graphviz installed and want to print tree images)\n",
    "# from IPython.display import Image\n",
    "# dot_file = tree.export_graphviz(clf.tree_, out_file='tree_d2_digits.dot')  #export the tree to .dot file\n",
    "# ! dot -T png tree_d2_digits.dot -o tree_d2_digits.png\n",
    "# Image(filename='tree_d2_digits.png')"
   ]
  },
  {
   "cell_type": "code",
   "execution_count": 12,
   "metadata": {
    "collapsed": false
   },
   "outputs": [
    {
     "name": "stdout",
     "output_type": "stream",
     "text": [
      "[[3 2]\n",
      " [4 4]\n",
      " [5 2]]\n"
     ]
    }
   ],
   "source": [
    "clf = tree.DecisionTreeClassifier(max_depth=2,criterion=\"entropy\") # construct a decision tree.\n",
    "clf.fit(digits.data,digits.target)  # train it on the dataset\n",
    "\n",
    "features_used = [f for f in clf.tree_.feature if f != -2]\n",
    "\n",
    "def convert_features_used_to_image_locations(features_used, clf):\n",
    "    features_used_as_image = np.zeros(64)\n",
    "    for f in features_used:\n",
    "        features_used_as_image[f] += 1\n",
    "    features_used_as_image = features_used_as_image.reshape((8,8))\n",
    "    locations_of_decision_points = np.argwhere(features_used_as_image > 0)\n",
    "    return [features_used_as_image, locations_of_decision_points]\n",
    "\n",
    "[features_used_as_image, locations_of_decision_points] = convert_features_used_to_image_locations(features_used, clf)\n",
    "print locations_of_decision_points"
   ]
  },
  {
   "cell_type": "code",
   "execution_count": 13,
   "metadata": {
    "collapsed": false
   },
   "outputs": [
    {
     "data": {
      "image/png": "[encoded data removed]",
      "text/plain": [
       "<matplotlib.figure.Figure at 0x1080b8f50>"
      ]
     },
     "metadata": {},
     "output_type": "display_data"
    }
   ],
   "source": [
    "\"\"\" Plot 3 random digits, with decision boundaries labeled. \"\"\"\n",
    "\n",
    "def plot_decision_points_on_image(ax, features_used_as_image, locations_of_decision_points):\n",
    "    [ax.plot(x,y,'r*', ms=15*features_used_as_image[x,y]) for [x,y] in locations_of_decision_points]\n",
    "\n",
    "N = len(digits.data)\n",
    "samples_to_show = np.random.randint(0,N,3)\n",
    "f, (ax1, ax2, ax3) = plt.subplots(nrows=1, ncols=3)\n",
    "f.set_figwidth(14)\n",
    "ax1.set_title(digits.target[samples_to_show[0]])\n",
    "ax1.matshow(digits.images[samples_to_show[0]], cmap=cm.gray_r)\n",
    "plot_decision_points_on_image(ax1, features_used_as_image, locations_of_decision_points)\n",
    "\n",
    "ax2.set_title(digits.target[samples_to_show[1]])\n",
    "ax2.matshow(digits.images[samples_to_show[1]], cmap=cm.gray_r)\n",
    "plot_decision_points_on_image(ax2, features_used_as_image, locations_of_decision_points)\n",
    "\n",
    "ax3.set_title(digits.target[samples_to_show[2]])\n",
    "ax3.matshow(digits.images[samples_to_show[2]], cmap=cm.gray_r)\n",
    "plot_decision_points_on_image(ax3, features_used_as_image, locations_of_decision_points)"
   ]
  },
  {
   "cell_type": "markdown",
   "metadata": {
    "collapsed": false
   },
   "source": [
    "## Challenges:"
   ]
  },
  {
   "cell_type": "code",
   "execution_count": 15,
   "metadata": {
    "collapsed": false
   },
   "outputs": [],
   "source": [
    "# Sample data into a Train/test split.  (careful so all classes are represented in both data sets)\n",
    "#  (traditionally, 50-70% of data goes to training)\n",
    "#  ( http://scikit-learn.org/stable/modules/generated/sklearn.cross_validation.train_test_split.html )"
   ]
  },
  {
   "cell_type": "code",
   "execution_count": null,
   "metadata": {
    "collapsed": true
   },
   "outputs": [],
   "source": [
    "# Does the same depth=2 decision tree find the same decision boundaries?"
   ]
  },
  {
   "cell_type": "code",
   "execution_count": null,
   "metadata": {
    "collapsed": true
   },
   "outputs": [],
   "source": [
    "# Plot the performance on train and test sets (as told by clf.score(X,Y)) across a range of depths"
   ]
  },
  {
   "cell_type": "code",
   "execution_count": null,
   "metadata": {
    "collapsed": true
   },
   "outputs": [],
   "source": [
    "# Which depth is best?"
   ]
  },
  {
   "cell_type": "markdown",
   "metadata": {},
   "source": [
    "## Other Datasets:\n",
    "* \"the\" MNIST [handwritten digits dataset](http://yann.lecun.com/exdb/mnist/)\n",
    "* [Housing Prices](http://www.cs.toronto.edu/~delve/data/census-house/desc.html)"
   ]
  }
 ],
 "metadata": {
  "kernelspec": {
   "display_name": "Python 2",
   "language": "python",
   "name": "python2"
  },
  "language_info": {
   "codemirror_mode": {
    "name": "ipython",
    "version": 2
   },
   "file_extension": ".py",
   "mimetype": "text/x-python",
   "name": "python",
   "nbconvert_exporter": "python",
   "pygments_lexer": "ipython2",
   "version": "2.7.10"
  }
 },
 "nbformat": 4,
 "nbformat_minor": 0
}
