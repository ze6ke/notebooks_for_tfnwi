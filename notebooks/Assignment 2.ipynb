{
 "cells": [
  {
   "cell_type": "markdown",
   "metadata": {},
   "source": [
    "#Assignment 2 - K-means"
   ]
  },
  {
   "cell_type": "markdown",
   "metadata": {},
   "source": [
    "### We're back to  [Fisher's iris data](https://archive.ics.uci.edu/ml/datasets/Iris)"
   ]
  },
  {
   "cell_type": "code",
   "execution_count": 1,
   "metadata": {
    "collapsed": false
   },
   "outputs": [
    {
     "name": "stdout",
     "output_type": "stream",
     "text": [
      "shape of data: (150, 4)\n",
      "iv names: ['sepal length (cm)', 'sepal width (cm)', 'petal length (cm)', 'petal width (cm)']\n",
      "shape of labels: (150,)\n",
      "label names: ['setosa' 'versicolor' 'virginica']\n",
      "\n",
      "The first 5 data samples, with labels:\n",
      "[ 5.1  3.5  1.4  0.2] 0\n",
      "[ 5.7  4.4  1.5  0.4] 0\n",
      "[ 4.8  3.1  1.6  0.2] 0\n",
      "[ 4.8  3.   1.4  0.3] 0\n",
      "[ 5.   2.   3.5  1. ] 1\n",
      "[ 6.6  3.   4.4  1.4] 1\n",
      "[ 5.5  2.6  4.4  1.2] 1\n",
      "[ 7.6  3.   6.6  2.1] 2\n",
      "[ 6.9  3.2  5.7  2.3] 2\n",
      "[ 7.7  3.   6.1  2.3] 2\n",
      "...\n"
     ]
    }
   ],
   "source": [
    "from sklearn import datasets\n",
    "iris = datasets.load_iris()\n",
    "\n",
    "print \"shape of data:\",iris.data.shape\n",
    "print \"iv names:\",iris.feature_names\n",
    "print \"shape of labels:\", iris.target.shape\n",
    "print \"label names:\",iris.target_names\n",
    "print\n",
    "\n",
    "print \"Picking 15 samples, with labels:\"\n",
    "for i in range(0,149,15):\n",
    "    print iris.data[i],iris.target[i]\n",
    "print \"...\""
   ]
  },
  {
   "cell_type": "markdown",
   "metadata": {},
   "source": [
    "But let's drop the labels to pretend we don't know what we're looking at.\n",
    "\n",
    "Let's also only look at the petal width and petal length, so we can more easily graph it."
   ]
  },
  {
   "cell_type": "code",
   "execution_count": 173,
   "metadata": {
    "collapsed": true
   },
   "outputs": [],
   "source": [
    "data = [[row[2], row[3]] for row in iris.data]\n",
    "labels = [iris.target]\n"
   ]
  },
  {
   "cell_type": "code",
   "execution_count": null,
   "metadata": {
    "collapsed": true
   },
   "outputs": [],
   "source": [
    "# Starting on the 2d iris data: run k-means on iris data."
   ]
  },
  {
   "cell_type": "code",
   "execution_count": null,
   "metadata": {
    "collapsed": true
   },
   "outputs": [],
   "source": [
    "# Scree plot to pick k"
   ]
  },
  {
   "cell_type": "code",
   "execution_count": null,
   "metadata": {
    "collapsed": true
   },
   "outputs": [],
   "source": [
    "# plot best centers on top of "
   ]
  },
  {
   "cell_type": "code",
   "execution_count": null,
   "metadata": {
    "collapsed": true
   },
   "outputs": [],
   "source": [
    "# compare clusters to actual class"
   ]
  },
  {
   "cell_type": "code",
   "execution_count": null,
   "metadata": {
    "collapsed": true
   },
   "outputs": [],
   "source": [
    "# Rerun scree on 4 dimensions."
   ]
  },
  {
   "cell_type": "code",
   "execution_count": 1,
   "metadata": {
    "collapsed": true
   },
   "outputs": [],
   "source": [
    "# Does the 2 extra dimensions do anything?"
   ]
  },
  {
   "cell_type": "code",
   "execution_count": 2,
   "metadata": {
    "collapsed": true
   },
   "outputs": [],
   "source": [
    "# Bonus: cluster the digits dataset"
   ]
  },
  {
   "cell_type": "markdown",
   "metadata": {},
   "source": [
    "fyi:  mini-batch k-means is better at scale."
   ]
  }
 ],
 "metadata": {
  "kernelspec": {
   "display_name": "Python 2",
   "language": "python",
   "name": "python2"
  },
  "language_info": {
   "codemirror_mode": {
    "name": "ipython",
    "version": 2
   },
   "file_extension": ".py",
   "mimetype": "text/x-python",
   "name": "python",
   "nbconvert_exporter": "python",
   "pygments_lexer": "ipython2",
   "version": "2.7.10"
  }
 },
 "nbformat": 4,
 "nbformat_minor": 0
}
